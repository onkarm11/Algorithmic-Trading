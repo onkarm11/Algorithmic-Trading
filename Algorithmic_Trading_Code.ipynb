{
 "cells": [
  {
   "cell_type": "code",
   "execution_count": 1,
   "id": "6c382633",
   "metadata": {},
   "outputs": [],
   "source": [
    "import pandas as pd\n",
    "import numpy as np\n",
    "from datetime import datetime\n",
    "import matplotlib.pyplot as plt\n",
    "from alpha_vantage.timeseries import TimeSeries"
   ]
  },
  {
   "cell_type": "code",
   "execution_count": null,
   "id": "d45e917a",
   "metadata": {},
   "outputs": [],
   "source": [
    "# To import the data of company and save it\n",
    "API_key = \"ZN1V6BVDFD0QN0A4\"\n",
    "\n",
    "ts = TimeSeries(key = API_key,output_format = \"pandas\")\n",
    "data = ts.get_intraday(\"AAPL\")\n",
    "data[0]"
   ]
  },
  {
   "cell_type": "code",
   "execution_count": null,
   "id": "ef53edc3",
   "metadata": {},
   "outputs": [],
   "source": [
    "# To plot the data of company on graph\n",
    "plt.figure(figsize=(12.2,4.5))\n",
    "plt.plot(data['close'],label='close')\n",
    "plt.title('Close Price History')\n",
    "plt.xlabel('Date')\n",
    "plt.ylabel('Price USD ($)')\n",
    "plt.show()\n"
   ]
  },
  {
   "cell_type": "code",
   "execution_count": null,
   "id": "d76a5d4a",
   "metadata": {},
   "outputs": [],
   "source": [
    "# To calculate simple moving average for 30 days and 100 days\n",
    "SMA30 = pd.DataFrame()\n",
    "SMA30['close']=data['Close Price'].rolling(30).mean()\n",
    "SMA100 = pd.DataFrame()\n",
    "SMA100['close']=data['Close Price'].rolling(100).mean()\n",
    "SMA30\n",
    "SMA100\n"
   ]
  },
  {
   "cell_type": "code",
   "execution_count": null,
   "id": "64784c41",
   "metadata": {},
   "outputs": [],
   "source": [
    "data=pd.DataFrame()\n",
    "data['AAPL']=AAPL['Close']\n",
    "data['SMA30']=SMA30['Close']\n",
    "data['SMA100']=SMA100['Close']\n",
    "data"
   ]
  },
  {
   "cell_type": "code",
   "execution_count": null,
   "id": "6535d60d",
   "metadata": {},
   "outputs": [],
   "source": [
    "# This function shows an indicator to buy or sell stock\n",
    "def buy_sell(data):\n",
    "    sigPriceBuy=[]\n",
    "    sigPriceBuy=[]\n",
    "    flag = -1\n",
    "    for i in range(len(data)):\n",
    "        if data['SMA30'][i]>data['SMA100'][i]:\n",
    "            if flaf !=1:\n",
    "                sigPriceBuy.append(data['AAPL'][i])\n",
    "                sigPriceSell.append(np.nan)\n",
    "                flag = 1\n",
    "            else:\n",
    "                sigPriceBuy.append(np.nan)\n",
    "                sigPriceSell.append(np.nan)\n",
    "        elif data['SMA30'][i]<data['SMA100'][i]:\n",
    "            if flag != 0:\n",
    "                sigPriceBuy.append(np.nan)\n",
    "                sigPriceSell.append(data['AAPL'][i])\n",
    "            else:\n",
    "                sigPriceBuy.append(np.nan)\n",
    "                sigPriceSell.append(np.nan)\n",
    "                \n",
    "        else:\n",
    "            sigPriceBuy.append(np.nan)\n",
    "            sigPriceSell.append(np.nan)\n",
    "            \n",
    "    return(sigPriceBuy,sigPriceSell)"
   ]
  },
  {
   "cell_type": "code",
   "execution_count": null,
   "id": "11dab148",
   "metadata": {},
   "outputs": [],
   "source": [
    "buy_sell=buy_sell(data)\n",
    "data['Buy_Signal_Price']=buy_sell[0]\n",
    "data['Sell_Signal_Price']=buy_sell[1]"
   ]
  },
  {
   "cell_type": "code",
   "execution_count": null,
   "id": "a555a020",
   "metadata": {},
   "outputs": [],
   "source": [
    "data"
   ]
  },
  {
   "cell_type": "code",
   "execution_count": null,
   "id": "be55cbf4",
   "metadata": {},
   "outputs": [],
   "source": [
    "# This plots the company data and also an indicator for buying and selling of stocks\n",
    "plt.figure(figsize=(12.6,4.6))\n",
    "plt.plot(data['AAPL'],label=\"AAPL\")\n",
    "plt.plot(data['SMA30'],label='SMA30')\n",
    "plt.plot(data['SMA100'],label='SMA100')\n",
    "plt.scatter(data.index,data['Buy_Signal_Price'],label='Buy',marker='^',color='green')\n",
    "plt.scatter(data.index,data['Sell_Signal_Price'],label=\"Sell\",marker='v',color='red')\n",
    "plt.title('AAPL Close Price History Buy and Sell Signals')\n",
    "plt.xlabel('Oct.02, 2006 - Dec.30, 2011')\n",
    "plt.ylabel('Close Price USD($)')\n",
    "plt.legend(loc='upper left')\n",
    "plt.show()\n"
   ]
  }
 ],
 "metadata": {
  "kernelspec": {
   "display_name": "Python 3 (ipykernel)",
   "language": "python",
   "name": "python3"
  },
  "language_info": {
   "codemirror_mode": {
    "name": "ipython",
    "version": 3
   },
   "file_extension": ".py",
   "mimetype": "text/x-python",
   "name": "python",
   "nbconvert_exporter": "python",
   "pygments_lexer": "ipython3",
   "version": "3.9.13"
  }
 },
 "nbformat": 4,
 "nbformat_minor": 5
}
