{
 "cells": [
  {
   "cell_type": "code",
   "execution_count": 1,
   "id": "3f342c52",
   "metadata": {},
   "outputs": [],
   "source": [
    "import pandas as pd\n",
    "import numpy as np\n",
    "from datetime import datetime\n",
    "import matplotlib.pyplot as plt\n",
    "from alpha_vantage.timeseries import TimeSeries"
   ]
  },
  {
   "cell_type": "code",
   "execution_count": null,
   "id": "a8311387",
   "metadata": {},
   "outputs": [],
   "source": [
    "\n",
    "API_key = \"ZN1V6BVDFD0QN0A4\"\n",
    "\n",
    "ts = TimeSeries(key = API_key,output_format = \"pandas\")\n",
    "data = ts.get_intraday(\"AAPL\")\n",
    "data[0]"
   ]
  },
  {
   "cell_type": "code",
   "execution_count": null,
   "id": "80d5ac91",
   "metadata": {},
   "outputs": [],
   "source": [
    "plt.figure(figsize=(12.2,4.5))\n",
    "plt.plot(data['close'],label='close')\n",
    "plt.title('Close Price History')\n",
    "plt.xlabel('Date')\n",
    "plt.ylabel('Price USD ($)')\n",
    "plt.show()\n"
   ]
  },
  {
   "cell_type": "code",
   "execution_count": null,
   "id": "7df12c85",
   "metadata": {},
   "outputs": [],
   "source": [
    "SMA30 = pd.DataFrame()\n",
    "SMA30['close']=data['Close Price'].rolling(30).mean()\n",
    "SMA100 = pd.DataFrame()\n",
    "SMA100['close']=data['Close Price'].rolling(100).mean()\n",
    "SMA30\n",
    "SMA100\n"
   ]
  },
  {
   "cell_type": "code",
   "execution_count": null,
   "id": "cba9572e",
   "metadata": {},
   "outputs": [],
   "source": [
    "data=pd.DataFrame()\n",
    "data['AAPL']=AAPL['Close']\n",
    "data['SMA30']=SMA30['Close']\n",
    "data['SMA100']=SMA100['Close']\n",
    "data"
   ]
  },
  {
   "cell_type": "code",
   "execution_count": null,
   "id": "7a974405",
   "metadata": {},
   "outputs": [],
   "source": [
    "def buy_sell(data):\n",
    "    sigPriceBuy=[]\n",
    "    sigPriceBuy=[]\n",
    "    flag = -1\n",
    "    for i in range(len(data)):\n",
    "        if data['SMA30'][i]>data['SMA100'][i]:\n",
    "            if flaf !=1:\n",
    "                sigPriceBuy.append(data['AAPL'][i])\n",
    "                sigPriceSell.append(np.nan)\n",
    "                flag = 1\n",
    "            else:\n",
    "                sigPriceBuy.append(np.nan)\n",
    "                sigPriceSell.append(np.nan)\n",
    "        elif data['SMA30'][i]<data['SMA100'][i]:\n",
    "            if flag != 0:\n",
    "                sigPriceBuy.append(np.nan)\n",
    "                sigPriceSell.append(data['AAPL'][i])\n",
    "            else:\n",
    "                sigPriceBuy.append(np.nan)\n",
    "                sigPriceSell.append(np.nan)\n",
    "                \n",
    "        else:\n",
    "            sigPriceBuy.append(np.nan)\n",
    "            sigPriceSell.append(np.nan)\n",
    "            \n",
    "    return(sigPriceBuy,sigPriceSell)"
   ]
  },
  {
   "cell_type": "code",
   "execution_count": null,
   "id": "022d2891",
   "metadata": {},
   "outputs": [],
   "source": [
    "buy_sell=buy_sell(data)\n",
    "data['Buy_Signal_Price']=buy_sell[0]\n",
    "data['Sell_Signal_Price']=buy_sell[1]"
   ]
  },
  {
   "cell_type": "code",
   "execution_count": null,
   "id": "b8f3b476",
   "metadata": {},
   "outputs": [],
   "source": [
    "data"
   ]
  },
  {
   "cell_type": "code",
   "execution_count": null,
   "id": "18c6bef2",
   "metadata": {},
   "outputs": [],
   "source": [
    "plt.figure(figsize=(12.6,4.6))\n",
    "plt.plot(data['AAPL'],label=\"AAPL\")\n",
    "plt.plot(data['SMA30'],label='SMA30')\n",
    "plt.plot(data['SMA100'],label='SMA100')\n",
    "plt.scatter(data.index,data['Buy_Signal_Price'],label='Buy',marker='^',color='green')\n",
    "plt.scatter(data.index,data['Sell_Signal_Price'],label=\"Sell\",marker='v',color='red')\n",
    "plt.title('AAPL Close Price History Buy and Sell Signals')\n",
    "plt.xlabel('Oct.02, 2006 - Dec.30, 2011')\n",
    "plt.ylabel('Close Price USD($)')\n",
    "plt.legend(loc='upper left')\n",
    "plt.show()\n"
   ]
  }
 ],
 "metadata": {
  "kernelspec": {
   "display_name": "Python 3 (ipykernel)",
   "language": "python",
   "name": "python3"
  },
  "language_info": {
   "codemirror_mode": {
    "name": "ipython",
    "version": 3
   },
   "file_extension": ".py",
   "mimetype": "text/x-python",
   "name": "python",
   "nbconvert_exporter": "python",
   "pygments_lexer": "ipython3",
   "version": "3.9.13"
  }
 },
 "nbformat": 4,
 "nbformat_minor": 5
}
